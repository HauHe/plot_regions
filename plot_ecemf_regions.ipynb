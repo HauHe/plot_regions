{
 "cells": [
  {
   "cell_type": "code",
   "execution_count": null,
   "metadata": {},
   "outputs": [],
   "source": [
    "import plot_regions as pr"
   ]
  },
  {
   "cell_type": "code",
   "execution_count": null,
   "metadata": {},
   "outputs": [],
   "source": [
    "dic_resolutions = {\n",
    "    'two_regions' : {\n",
    "        'AT' : 'WEU',\n",
    "        'BE' : 'WEU',\n",
    "        'BG' : 'EEU',\n",
    "        'HR' : 'EEU',\n",
    "        'CY' : 'EEU',\n",
    "        'CZ' : 'EEU',\n",
    "        'DK' : 'WEU',\n",
    "        'EE' : 'EEU',\n",
    "        'FI' : 'WEU',\n",
    "        'FR' : 'WEU',\n",
    "        'DE' : 'WEU',\n",
    "        'EL' : 'WEU',\n",
    "        'HU' : 'EEU',\n",
    "        'IE' : 'WEU',\n",
    "        'IT' : 'WEU',\n",
    "        'LV' : 'EEU',\n",
    "        'LT' : 'EEU',\n",
    "        'LU' : 'WEU',\n",
    "        'MT' : 'WEU',\n",
    "        'NL' : 'WEU',\n",
    "        'PL' : 'EEU',\n",
    "        'PT' : 'WEU',\n",
    "        'RO' : 'EEU',\n",
    "        'SK' : 'EEU',\n",
    "        'SI' : 'EEU',\n",
    "        'ES' : 'WEU',\n",
    "        'SE' : 'WEU',\n",
    "        'UK' : 'WEU',\n",
    "    },\n",
    "    'nine_regions' : {\n",
    "        'AT' : 'EWN',\n",
    "        'BE' : 'EWN',\n",
    "        'BG' : 'ECS',\n",
    "        'HR' : 'ECS',\n",
    "        'CY' : 'ESC',\n",
    "        'CZ' : 'ECE',\n",
    "        'DK' : 'ENC',\n",
    "        'EE' : 'ECE',\n",
    "        'FI' : 'ENC',\n",
    "        'FR' : 'FRA',\n",
    "        'DE' : 'DEU',\n",
    "        'EL' : 'ESC',\n",
    "        'HU' : 'ECS',\n",
    "        'IE' : 'UKI',\n",
    "        'IT' : 'ESC',\n",
    "        'LV' : 'ECE',\n",
    "        'LT' : 'ECE',\n",
    "        'LU' : 'EWN',\n",
    "        'MT' : 'ESC',\n",
    "        'NL' : 'EWN',\n",
    "        'PL' : 'ECE',\n",
    "        'PT' : 'ESW',\n",
    "        'RO' : 'ECS',\n",
    "        'SK' : 'ECE',\n",
    "        'SI' : 'ECS',\n",
    "        'ES' : 'ESW',\n",
    "        'SE' : 'ENC',\n",
    "        'UK' : 'UKI',\n",
    "    },\n",
    "    'country_res' : {\n",
    "        'AT' : 'AT',\n",
    "        'BE' : 'BE',\n",
    "        'BG' : 'BG',\n",
    "        'HR' : 'HR',\n",
    "        'CY' : 'CY',\n",
    "        'CZ' : 'CZ',\n",
    "        'DK' : 'DK',\n",
    "        'EE' : 'EE',\n",
    "        'FI' : 'FI',\n",
    "        'FR' : 'FR',\n",
    "        'DE' : 'DE',\n",
    "        'EL' : 'EL',\n",
    "        'HU' : 'HU',\n",
    "        'IE' : 'IE',\n",
    "        'IT' : 'IT',\n",
    "        'LV' : 'LV',\n",
    "        'LT' : 'LT',\n",
    "        'LU' : 'LU',\n",
    "        'MT' : 'MT',\n",
    "        'NL' : 'NL',\n",
    "        'PL' : 'PL',\n",
    "        'PT' : 'PT',\n",
    "        'RO' : 'RO',\n",
    "        'SK' : 'SK',\n",
    "        'SI' : 'SI',\n",
    "        'ES' : 'ES',\n",
    "        'SE' : 'SE',\n",
    "        'UK' : 'UK',\n",
    "    }\n",
    "}"
   ]
  },
  {
   "cell_type": "code",
   "execution_count": null,
   "metadata": {},
   "outputs": [],
   "source": [
    "for r in dic_resolutions:\n",
    "    path_fig = r + 'map.png'\n",
    "    pr.main(dic_resolutions[r], path_fig)"
   ]
  },
  {
   "cell_type": "code",
   "execution_count": null,
   "metadata": {},
   "outputs": [],
   "source": []
  }
 ],
 "metadata": {
  "kernelspec": {
   "display_name": "Python 3.11.0 ('plot_regions')",
   "language": "python",
   "name": "python3"
  },
  "language_info": {
   "codemirror_mode": {
    "name": "ipython",
    "version": 3
   },
   "file_extension": ".py",
   "mimetype": "text/x-python",
   "name": "python",
   "nbconvert_exporter": "python",
   "pygments_lexer": "ipython3",
   "version": "3.11.0"
  },
  "orig_nbformat": 4,
  "vscode": {
   "interpreter": {
    "hash": "a0b3caa9bd57a025606eafcba01c48b2f42fedd35b8cfe939747ead511393553"
   }
  }
 },
 "nbformat": 4,
 "nbformat_minor": 2
}
